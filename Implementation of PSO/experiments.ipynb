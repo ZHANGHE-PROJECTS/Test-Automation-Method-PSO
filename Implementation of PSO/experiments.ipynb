{
 "cells": [
  {
   "cell_type": "code",
   "execution_count": 32,
   "metadata": {},
   "outputs": [],
   "source": [
    "import warnings\n",
    "warnings.filterwarnings(\"ignore\")\n",
    "\n",
    "import pandas as pd\n",
    "import numpy as np\n",
    "from sklearn.neighbors import KNeighborsRegressor,KNeighborsClassifier\n",
    "import random as rd\n",
    "import itertools\n",
    "import matplotlib.pyplot as plt\n",
    "import heapq\n",
    "from mpl_toolkits.mplot3d import Axes3D\n",
    "\n",
    "from sklearn.cluster import MeanShift,estimate_bandwidth\n",
    "from sklearn.cluster import DBSCAN   \n",
    "from sklearn.neighbors import NearestNeighbors \n",
    "from sklearn.preprocessing import StandardScaler\n",
    "\n",
    "%matplotlib inline\n",
    "from sklearn.mixture import BayesianGaussianMixture,GaussianMixture\n",
    "import scipy\n",
    "from collections import Counter\n",
    "\n",
    "import itertools\n",
    "import time\n",
    "from pyecharts.globals import CurrentConfig, NotebookType\n",
    "CurrentConfig.NOTEBOOK_TYPE = NotebookType.JUPYTER_LAB\n",
    "import pyecharts\n",
    "\n",
    "from allpairspy import AllPairs\n",
    "import itertools\n",
    "from sklearn.metrics import classification_report,accuracy_score\n",
    "\n",
    "plt.rcParams['font.sans-serif'] = ['SimHei'] \n",
    "plt.rcParams['axes.unicode_minus'] = False  "
   ]
  },
  {
   "cell_type": "markdown",
   "metadata": {},
   "source": [
    "# test ODD"
   ]
  },
  {
   "cell_type": "code",
   "execution_count": 33,
   "metadata": {},
   "outputs": [
    {
     "data": {
      "text/html": [
       "<div>\n",
       "<style scoped>\n",
       "    .dataframe tbody tr th:only-of-type {\n",
       "        vertical-align: middle;\n",
       "    }\n",
       "\n",
       "    .dataframe tbody tr th {\n",
       "        vertical-align: top;\n",
       "    }\n",
       "\n",
       "    .dataframe thead th {\n",
       "        text-align: right;\n",
       "    }\n",
       "</style>\n",
       "<table border=\"1\" class=\"dataframe\">\n",
       "  <thead>\n",
       "    <tr style=\"text-align: right;\">\n",
       "      <th></th>\n",
       "      <th>vs</th>\n",
       "      <th>dif_speed</th>\n",
       "      <th>dis</th>\n",
       "      <th>result</th>\n",
       "    </tr>\n",
       "  </thead>\n",
       "  <tbody>\n",
       "    <tr>\n",
       "      <th>0</th>\n",
       "      <td>1</td>\n",
       "      <td>0</td>\n",
       "      <td>5</td>\n",
       "      <td>0</td>\n",
       "    </tr>\n",
       "    <tr>\n",
       "      <th>1</th>\n",
       "      <td>1</td>\n",
       "      <td>0</td>\n",
       "      <td>6</td>\n",
       "      <td>0</td>\n",
       "    </tr>\n",
       "    <tr>\n",
       "      <th>2</th>\n",
       "      <td>1</td>\n",
       "      <td>0</td>\n",
       "      <td>7</td>\n",
       "      <td>0</td>\n",
       "    </tr>\n",
       "    <tr>\n",
       "      <th>3</th>\n",
       "      <td>1</td>\n",
       "      <td>0</td>\n",
       "      <td>8</td>\n",
       "      <td>0</td>\n",
       "    </tr>\n",
       "    <tr>\n",
       "      <th>4</th>\n",
       "      <td>1</td>\n",
       "      <td>0</td>\n",
       "      <td>9</td>\n",
       "      <td>0</td>\n",
       "    </tr>\n",
       "    <tr>\n",
       "      <th>...</th>\n",
       "      <td>...</td>\n",
       "      <td>...</td>\n",
       "      <td>...</td>\n",
       "      <td>...</td>\n",
       "    </tr>\n",
       "    <tr>\n",
       "      <th>68330</th>\n",
       "      <td>43</td>\n",
       "      <td>2</td>\n",
       "      <td>46</td>\n",
       "      <td>0</td>\n",
       "    </tr>\n",
       "    <tr>\n",
       "      <th>68331</th>\n",
       "      <td>43</td>\n",
       "      <td>2</td>\n",
       "      <td>47</td>\n",
       "      <td>0</td>\n",
       "    </tr>\n",
       "    <tr>\n",
       "      <th>68332</th>\n",
       "      <td>43</td>\n",
       "      <td>2</td>\n",
       "      <td>48</td>\n",
       "      <td>0</td>\n",
       "    </tr>\n",
       "    <tr>\n",
       "      <th>68333</th>\n",
       "      <td>43</td>\n",
       "      <td>2</td>\n",
       "      <td>49</td>\n",
       "      <td>0</td>\n",
       "    </tr>\n",
       "    <tr>\n",
       "      <th>68334</th>\n",
       "      <td>43</td>\n",
       "      <td>2</td>\n",
       "      <td>50</td>\n",
       "      <td>0</td>\n",
       "    </tr>\n",
       "  </tbody>\n",
       "</table>\n",
       "<p>68335 rows × 4 columns</p>\n",
       "</div>"
      ],
      "text/plain": [
       "       vs  dif_speed  dis  result\n",
       "0       1          0    5       0\n",
       "1       1          0    6       0\n",
       "2       1          0    7       0\n",
       "3       1          0    8       0\n",
       "4       1          0    9       0\n",
       "...    ..        ...  ...     ...\n",
       "68330  43          2   46       0\n",
       "68331  43          2   47       0\n",
       "68332  43          2   48       0\n",
       "68333  43          2   49       0\n",
       "68334  43          2   50       0\n",
       "\n",
       "[68335 rows x 4 columns]"
      ]
     },
     "execution_count": 33,
     "metadata": {},
     "output_type": "execute_result"
    }
   ],
   "source": [
    "ODD_FILE_PATH = './Testing_Results.csv'\n",
    "odd = pd.read_csv(ODD_FILE_PATH)\n",
    "odd"
   ]
  },
  {
   "cell_type": "code",
   "execution_count": 34,
   "metadata": {},
   "outputs": [],
   "source": [
    "FEATURE = ['vs','dif_speed','dis']\n",
    "name = np.array(FEATURE)\n",
    "X_qualified_All=odd[FEATURE].values\n",
    "Y_all=odd['result'].values"
   ]
  },
  {
   "cell_type": "raw",
   "metadata": {},
   "source": [
    "Here we provide the testing results in the whole Car-following test ODD.It can be used to efficiently verify the implementation of PSO.\n",
    "\n",
    "If using SUT_IDM:\n",
    "\n",
    "FEATURE = ['Speed_y','dif_speed','dis']\n",
    "name = np.array(FEATURE)\n",
    "from SUT_IDM import IDM\n",
    "sut=IDM(name)\n",
    "Y_all=sut.test(X_qualified_All)"
   ]
  },
  {
   "cell_type": "markdown",
   "metadata": {},
   "source": [
    "# Calculate the PDF of each scenarios"
   ]
  },
  {
   "cell_type": "code",
   "execution_count": 35,
   "metadata": {
    "scrolled": true
   },
   "outputs": [
    {
     "data": {
      "text/html": [
       "<div>\n",
       "<style scoped>\n",
       "    .dataframe tbody tr th:only-of-type {\n",
       "        vertical-align: middle;\n",
       "    }\n",
       "\n",
       "    .dataframe tbody tr th {\n",
       "        vertical-align: top;\n",
       "    }\n",
       "\n",
       "    .dataframe thead th {\n",
       "        text-align: right;\n",
       "    }\n",
       "</style>\n",
       "<table border=\"1\" class=\"dataframe\">\n",
       "  <thead>\n",
       "    <tr style=\"text-align: right;\">\n",
       "      <th></th>\n",
       "      <th>vs</th>\n",
       "      <th>dif_speed</th>\n",
       "      <th>dis</th>\n",
       "    </tr>\n",
       "  </thead>\n",
       "  <tbody>\n",
       "    <tr>\n",
       "      <th>0</th>\n",
       "      <td>35.02</td>\n",
       "      <td>0.80</td>\n",
       "      <td>22.67</td>\n",
       "    </tr>\n",
       "    <tr>\n",
       "      <th>1</th>\n",
       "      <td>36.62</td>\n",
       "      <td>1.71</td>\n",
       "      <td>25.39</td>\n",
       "    </tr>\n",
       "    <tr>\n",
       "      <th>2</th>\n",
       "      <td>24.53</td>\n",
       "      <td>-3.85</td>\n",
       "      <td>38.06</td>\n",
       "    </tr>\n",
       "    <tr>\n",
       "      <th>3</th>\n",
       "      <td>36.57</td>\n",
       "      <td>0.74</td>\n",
       "      <td>38.83</td>\n",
       "    </tr>\n",
       "    <tr>\n",
       "      <th>4</th>\n",
       "      <td>31.15</td>\n",
       "      <td>-0.16</td>\n",
       "      <td>35.29</td>\n",
       "    </tr>\n",
       "    <tr>\n",
       "      <th>...</th>\n",
       "      <td>...</td>\n",
       "      <td>...</td>\n",
       "      <td>...</td>\n",
       "    </tr>\n",
       "    <tr>\n",
       "      <th>30287</th>\n",
       "      <td>34.96</td>\n",
       "      <td>1.00</td>\n",
       "      <td>48.41</td>\n",
       "    </tr>\n",
       "    <tr>\n",
       "      <th>30288</th>\n",
       "      <td>31.91</td>\n",
       "      <td>-0.45</td>\n",
       "      <td>35.03</td>\n",
       "    </tr>\n",
       "    <tr>\n",
       "      <th>30289</th>\n",
       "      <td>32.76</td>\n",
       "      <td>-3.43</td>\n",
       "      <td>21.48</td>\n",
       "    </tr>\n",
       "    <tr>\n",
       "      <th>30290</th>\n",
       "      <td>32.84</td>\n",
       "      <td>-3.11</td>\n",
       "      <td>47.72</td>\n",
       "    </tr>\n",
       "    <tr>\n",
       "      <th>30291</th>\n",
       "      <td>26.02</td>\n",
       "      <td>-0.03</td>\n",
       "      <td>18.09</td>\n",
       "    </tr>\n",
       "  </tbody>\n",
       "</table>\n",
       "<p>30292 rows × 3 columns</p>\n",
       "</div>"
      ],
      "text/plain": [
       "          vs  dif_speed    dis\n",
       "0      35.02       0.80  22.67\n",
       "1      36.62       1.71  25.39\n",
       "2      24.53      -3.85  38.06\n",
       "3      36.57       0.74  38.83\n",
       "4      31.15      -0.16  35.29\n",
       "...      ...        ...    ...\n",
       "30287  34.96       1.00  48.41\n",
       "30288  31.91      -0.45  35.03\n",
       "30289  32.76      -3.43  21.48\n",
       "30290  32.84      -3.11  47.72\n",
       "30291  26.02      -0.03  18.09\n",
       "\n",
       "[30292 rows x 3 columns]"
      ]
     },
     "execution_count": 35,
     "metadata": {},
     "output_type": "execute_result"
    }
   ],
   "source": [
    "DATA_FILE_PATH = './carfollowing_from_HighD.csv'\n",
    "data = pd.read_csv(DATA_FILE_PATH)\n",
    "data=data[['vs','dif_speed','dis']]\n",
    "data"
   ]
  },
  {
   "cell_type": "code",
   "execution_count": null,
   "metadata": {
    "scrolled": true
   },
   "outputs": [],
   "source": [
    "import warnings\n",
    "warnings.filterwarnings(\"ignore\")\n",
    "\n",
    "rdList = np.random.choice(data.shape[0],size=5000)\n",
    "\n",
    "x_train = np.array(data)[rdList,:]\n",
    "x_f = x_train\n",
    "\n",
    "BEST_COMPONENTS = 0\n",
    "BEST_BIC = 99999\n",
    "for i in range(20):\n",
    "    BGMM = GaussianMixture(n_components=i+1,tol=0.00001,max_iter=10000)\n",
    "    BGMM.fit(x_f)\n",
    "    bic = BGMM.bic(x_f)\n",
    "    if bic < BEST_BIC:\n",
    "        BEST_BIC = bic\n",
    "        BEST_COMPONENTS = i+1\n",
    "BGMM = GaussianMixture(n_components=BEST_COMPONENTS,tol=0.0001,max_iter=10000)\n",
    "BGMM.fit(x_f) \n",
    "print(\"best_components:%d\"%BEST_COMPONENTS)"
   ]
  },
  {
   "cell_type": "code",
   "execution_count": 38,
   "metadata": {},
   "outputs": [],
   "source": [
    "def computeGMMpdf(BGMM, sample,scaler=None):\n",
    "    if scaler is not None:\n",
    "        sample = scaler.transform(sample)\n",
    "    for i in range(BGMM.weights_.shape[0]):\n",
    "        weights = BGMM.weights_[i] \n",
    "        mean = BGMM.means_[i, :]\n",
    "        cov = BGMM.covariances_[i, :, :]\n",
    "        mn = scipy.stats.multivariate_normal(mean=mean, cov=cov)\n",
    "        if i == 0:\n",
    "            res = mn.pdf(sample) * weights\n",
    "        else:\n",
    "            res += mn.pdf(sample) * weights \n",
    "    return res"
   ]
  },
  {
   "cell_type": "code",
   "execution_count": null,
   "metadata": {},
   "outputs": [],
   "source": [
    "score = computeGMMpdf(BGMM,X_qualified_All)\n",
    "p_x_all = score/score.sum() "
   ]
  },
  {
   "cell_type": "code",
   "execution_count": null,
   "metadata": {},
   "outputs": [],
   "source": [
    "score.sum()"
   ]
  },
  {
   "cell_type": "code",
   "execution_count": null,
   "metadata": {
    "scrolled": true
   },
   "outputs": [],
   "source": [
    "p_x_all"
   ]
  },
  {
   "cell_type": "code",
   "execution_count": null,
   "metadata": {
    "scrolled": true
   },
   "outputs": [],
   "source": [
    "x_p_frame = pd.DataFrame(X_qualified_All)\n",
    "x_p_frame.columns = ['vs','dif_speed','dis']\n",
    "x_p_frame['p'] = p_x_all\n",
    "danger_rate=p_x_all[Y_all==1].sum()"
   ]
  },
  {
   "cell_type": "markdown",
   "metadata": {},
   "source": [
    "# Evaluation Indicators"
   ]
  },
  {
   "cell_type": "code",
   "execution_count": null,
   "metadata": {},
   "outputs": [],
   "source": [
    "evaluation_list = ['Samples','Methods','Input coverage','2-wise coverage','Number of collisions','Coverage of collisions','Collision rate estimation','Estimation Error'] \n",
    "evaluation_matrix = pd.DataFrame(columns=evaluation_list)"
   ]
  },
  {
   "cell_type": "code",
   "execution_count": null,
   "metadata": {},
   "outputs": [],
   "source": [
    "def evaluation(time,name,sample,result,p_is=None,ment=False):\n",
    "    array_tmp = [time,name]\n",
    "    global evaluation_matrix,danger_rate,x_p_frame # 定义全局变量，然后会在函数外面寻找变量的定义，在函数内部对变量操作之后，依然是全局变量。\n",
    "\n",
    "    # Input coverage\n",
    "    ODD_cov=sample.shape[0]/68335\n",
    "    array_tmp+=[ODD_cov]\n",
    "    \n",
    "    # 2-wise coverage\n",
    "    pair_all_modify = 6566\n",
    "    pair_found = np.unique(sample[:,0:2],axis=0).shape[0] + np.unique(sample[:,1:3],axis=0).shape[0] + np.unique(sample[:,[0,2]],axis=0).shape[0]\n",
    "    pair_cov=pair_found/pair_all_modify\n",
    "    array_tmp+=[pair_cov]\n",
    "    \n",
    "    # Number of collisions\n",
    "    danger_find=result.sum()\n",
    "    array_tmp+=[danger_find]\n",
    "    \n",
    "    # Coverage of collisions\n",
    "    danger_cov=danger_find/6320\n",
    "    array_tmp+=[danger_cov]\n",
    "    \n",
    "    # Collision rate estimation\n",
    "    sample= pd.DataFrame(sample)\n",
    "    sample['Y']=result\n",
    "    sample.columns = ['vs','dif_speed','dis','Y']\n",
    "    sample_with_rate=pd.merge(sample,x_p_frame,how='left')\n",
    "    collision_rate=sample_with_rate[sample_with_rate.Y==1].p.sum()\n",
    "    array_tmp+=[collision_rate]  \n",
    "    \n",
    "    \n",
    "    # Estimation Error\n",
    "    array_tmp += [np.abs(collision_rate-danger_rate)/danger_rate]\n",
    "\n",
    "    \n",
    "    #to evaluation_matrix\n",
    "    evaluation_matrix.loc[evaluation_matrix.shape[0]] = array_tmp\n",
    "    return array_tmp"
   ]
  },
  {
   "cell_type": "markdown",
   "metadata": {},
   "source": [
    "# PSO"
   ]
  },
  {
   "cell_type": "code",
   "execution_count": null,
   "metadata": {},
   "outputs": [],
   "source": [
    "from test_base_data import testBaseData\n",
    "sut = testBaseData(\"Testing_Results.csv\",name)"
   ]
  },
  {
   "cell_type": "code",
   "execution_count": null,
   "metadata": {},
   "outputs": [],
   "source": [
    "from Grid_Search import grid\n",
    "para_tuning = grid()\n",
    "print(para_tuning.shape)"
   ]
  },
  {
   "cell_type": "code",
   "execution_count": null,
   "metadata": {},
   "outputs": [],
   "source": [
    "%%time\n",
    "\n",
    "k = 0\n",
    "\n",
    "#from idm_pso import IDMDanger\n",
    "#sut_danger=IDMDanger(name)\n",
    "\n",
    "from pso import PSO\n",
    "test_time=[1690,3000,4000,5000,6000,7000,8000,9000,10000,20000,30000,40000,50000,60000,68335]\n",
    "\n",
    "from Grid_Search import grid\n",
    "para_tuning = grid()\n",
    "print(para_tuning.shape[0])\n",
    "for i in range(para_tuning.shape[0]):\n",
    "    para_1,para_2,para_3 = para_tuning[i][0],para_tuning[i][1],para_tuning[i][2]\n",
    "\n",
    "    for NUM in test_time:\n",
    "        SAMPLE_NUM = NUM\n",
    "        pso = PSO(X_qualified_All,pN=int(SAMPLE_NUM*0.1),w=para_1,c1=para_2,c2=para_3)#int(SAMPLE_NUM*0.2)\n",
    "        sample = pso.init_population(X_qualified_All,pN=int(SAMPLE_NUM*0.1))\n",
    "        result = -sut.test(sample)\n",
    "        history=sample\n",
    "        for i in range(10):\n",
    "            sample, fit = pso.train(sample,result)\n",
    "            result = -sut.test(sample)\n",
    "            history=np.concatenate((history,sample),axis=0)\n",
    "        \n",
    "        \n",
    "        sample_use=np.unique(history,axis=0)\n",
    "        result_use=sut.test(sample_use)\n",
    "        result_use=np.nan_to_num(result_use, nan=0) #only count avoidable collisions\n",
    "        \n",
    "        temp_evaluate_result=evaluation(SAMPLE_NUM,'pso',sample_use,result_use)\n",
    "        \n",
    "        print(temp_evaluate_result)"
   ]
  },
  {
   "cell_type": "code",
   "execution_count": null,
   "metadata": {
    "scrolled": true
   },
   "outputs": [],
   "source": [
    "evaluation_matrix"
   ]
  },
  {
   "cell_type": "code",
   "execution_count": null,
   "metadata": {},
   "outputs": [],
   "source": []
  }
 ],
 "metadata": {
  "kernelspec": {
   "display_name": "Python 3",
   "language": "python",
   "name": "python3"
  },
  "language_info": {
   "codemirror_mode": {
    "name": "ipython",
    "version": 3
   },
   "file_extension": ".py",
   "mimetype": "text/x-python",
   "name": "python",
   "nbconvert_exporter": "python",
   "pygments_lexer": "ipython3",
   "version": "3.8.8"
  },
  "toc": {
   "base_numbering": 1,
   "nav_menu": {},
   "number_sections": true,
   "sideBar": true,
   "skip_h1_title": false,
   "title_cell": "Table of Contents",
   "title_sidebar": "Contents",
   "toc_cell": false,
   "toc_position": {},
   "toc_section_display": true,
   "toc_window_display": false
  }
 },
 "nbformat": 4,
 "nbformat_minor": 4
}
